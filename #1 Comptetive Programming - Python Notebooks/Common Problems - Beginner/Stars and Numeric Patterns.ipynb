{
 "cells": [
  {
   "cell_type": "markdown",
   "metadata": {},
   "source": [
    "# Star Patterns<br>\n",
    "1. Right angled traiangles<br>\n",
    "&nbsp;a) Left Side as perpendicular <br>\n",
    "&nbsp;b) Left Side as perpendicular - Inverted <br>\n",
    "&nbsp;c) Right Side as perpendicular<br>\n",
    "&nbsp;d) Right Side as perpendicular - Inverted <br>\n",
    "2. Diamond Pattern<br>"
   ]
  },
  {
   "cell_type": "code",
   "execution_count": 9,
   "metadata": {},
   "outputs": [],
   "source": [
    "def leftSideAsPerpendicular(n):\n",
    "    for x in range (0,n+1):\n",
    "        for y in range (0,x):\n",
    "            print(end=\"*\")\n",
    "        print(end=\"\\n\")"
   ]
  },
  {
   "cell_type": "code",
   "execution_count": 10,
   "metadata": {},
   "outputs": [
    {
     "name": "stdout",
     "output_type": "stream",
     "text": [
      "\n",
      "*\n",
      "**\n",
      "***\n",
      "****\n",
      "*****\n"
     ]
    }
   ],
   "source": [
    "leftSideAsPerpendicular(5)"
   ]
  },
  {
   "cell_type": "code",
   "execution_count": 7,
   "metadata": {},
   "outputs": [],
   "source": [
    "def leftSideAsPerpendicular_Inverted(n):\n",
    "    for x in range (0,n+1):\n",
    "        for y in range (n-x):\n",
    "            print(end=\"*\")\n",
    "        print(end=\"\\n\")"
   ]
  },
  {
   "cell_type": "code",
   "execution_count": 8,
   "metadata": {},
   "outputs": [
    {
     "name": "stdout",
     "output_type": "stream",
     "text": [
      "*****\n",
      "****\n",
      "***\n",
      "**\n",
      "*\n",
      "\n"
     ]
    }
   ],
   "source": [
    "leftSideAsPerpendicular_Inverted(5)"
   ]
  },
  {
   "cell_type": "code",
   "execution_count": 5,
   "metadata": {},
   "outputs": [],
   "source": [
    "def rightSideAsPerpendicular(n):\n",
    "    for x in range (1,n+1):\n",
    "        for y in range (n-x):\n",
    "            print(end=\" \")\n",
    "        for y in range (x):\n",
    "            print(end=\"*\")\n",
    "        print(end=\"\\n\")"
   ]
  },
  {
   "cell_type": "code",
   "execution_count": 6,
   "metadata": {},
   "outputs": [
    {
     "name": "stdout",
     "output_type": "stream",
     "text": [
      "    *\n",
      "   **\n",
      "  ***\n",
      " ****\n",
      "*****\n"
     ]
    }
   ],
   "source": [
    "rightSideAsPerpendicular(5)"
   ]
  },
  {
   "cell_type": "code",
   "execution_count": 3,
   "metadata": {},
   "outputs": [],
   "source": [
    "def rightSideAsPerpendicular_Inverted(n):\n",
    "    for x in range (0,n+1):\n",
    "        for y in range(x):\n",
    "            print(end=\" \")\n",
    "        for y in range (n-x):\n",
    "            print(end=\"*\")\n",
    "        \n",
    "        print(end=\"\\n\")"
   ]
  },
  {
   "cell_type": "code",
   "execution_count": 4,
   "metadata": {},
   "outputs": [
    {
     "name": "stdout",
     "output_type": "stream",
     "text": [
      "*****\n",
      " ****\n",
      "  ***\n",
      "   **\n",
      "    *\n",
      "     \n"
     ]
    }
   ],
   "source": [
    "rightSideAsPerpendicular_Inverted(5)"
   ]
  },
  {
   "cell_type": "code",
   "execution_count": 52,
   "metadata": {},
   "outputs": [],
   "source": [
    "def diamond(n):\n",
    "    #upper-half\n",
    "    for x in range (0,n+1):\n",
    "        for y in range(n-x):\n",
    "            print(end=\" \")\n",
    "        for y in range (x):\n",
    "            print(end=\"*\")\n",
    "        \n",
    "        #for y in range (x): #for rows as 2,4,6,8... stars\n",
    "        for y in range (1, x): #for rows as 1,3,5,7... stars\n",
    "            print(end=\"*\")\n",
    "        print(end=\"\\n\")\n",
    "    \n",
    "    #lower-half\n",
    "    for x in range (1,n+1):\n",
    "        for y in range(x):\n",
    "            print(end=\" \")\n",
    "        for y in range (n-x):\n",
    "            print(end=\"*\")\n",
    "            \n",
    "        #for y in range (n-x): #for rows as 2,4,6,8... stars\n",
    "        for y in range (1,n-x): #for rows as 1,3,5,7... stars\n",
    "            print(end=\"*\")\n",
    "        \n",
    "        print(end=\"\\n\")"
   ]
  },
  {
   "cell_type": "code",
   "execution_count": 53,
   "metadata": {},
   "outputs": [
    {
     "name": "stdout",
     "output_type": "stream",
     "text": [
      "     \n",
      "    *\n",
      "   ***\n",
      "  *****\n",
      " *******\n",
      "*********\n",
      " *******\n",
      "  *****\n",
      "   ***\n",
      "    *\n",
      "     \n"
     ]
    }
   ],
   "source": [
    "diamond(5)"
   ]
  },
  {
   "cell_type": "code",
   "execution_count": null,
   "metadata": {},
   "outputs": [],
   "source": []
  }
 ],
 "metadata": {
  "kernelspec": {
   "display_name": "Python 3",
   "language": "python",
   "name": "python3"
  },
  "language_info": {
   "codemirror_mode": {
    "name": "ipython",
    "version": 3
   },
   "file_extension": ".py",
   "mimetype": "text/x-python",
   "name": "python",
   "nbconvert_exporter": "python",
   "pygments_lexer": "ipython3",
   "version": "3.6.4"
  }
 },
 "nbformat": 4,
 "nbformat_minor": 2
}
